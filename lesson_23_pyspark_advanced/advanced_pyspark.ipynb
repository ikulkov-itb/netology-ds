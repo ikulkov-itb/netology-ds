{
 "cells": [
  {
   "cell_type": "code",
   "execution_count": null,
   "outputs": [],
   "source": [
    "from pyspark.context import SparkContext\n",
    "from pyspark.sql import SparkSession\n",
    "sc = SparkContext()\n",
    "spark = SparkSession(sc)\n"
   ],
   "metadata": {
    "collapsed": false,
    "pycharm": {
     "name": "#%%\n"
    }
   }
  },
  {
   "cell_type": "code",
   "execution_count": null,
   "outputs": [],
   "source": [
    "\n",
    "import pyspark.sql.functions as F\n",
    "from pyspark.sql.window import Window\n"
   ],
   "metadata": {
    "collapsed": false,
    "pycharm": {
     "name": "#%%\n"
    }
   }
  },
  {
   "cell_type": "code",
   "execution_count": null,
   "outputs": [],
   "source": [
    "\n",
    "data = spark.read.csv('file:///home/kulkovil/test/covid-data.csv', header=True)\n",
    "data = data.filter(F.length(data.iso_code) == 3)\n"
   ],
   "metadata": {
    "collapsed": false,
    "pycharm": {
     "name": "#%%\n"
    }
   }
  },
  {
   "cell_type": "code",
   "execution_count": null,
   "outputs": [],
   "source": [
    "\n",
    "data_1 = data.filter((data.date == '2021-03-31')).select('iso_code','location','population','total_cases')\n",
    "data_1 = data_1.withColumn('case_percents', F.lit(100) * data.total_cases.cast('double') / data.population.cast('double'))\n",
    "data_1 = data_1.select('iso_code','location','case_percents').orderBy('case_percents', ascending=False)\n",
    "data_1.show(15, False)\n"
   ],
   "metadata": {
    "collapsed": false,
    "pycharm": {
     "name": "#%%\n"
    }
   }
  },
  {
   "cell_type": "markdown",
   "source": [
    "```\n",
    "+--------+-------------+------------------+\n",
    "|iso_code|location     |case_percents     |\n",
    "+--------+-------------+------------------+\n",
    "|AND     |Andorra      |15.543907331909661|\n",
    "|MNE     |Montenegro   |14.523725364693295|\n",
    "|CZE     |Czechia      |14.308848404077997|\n",
    "|SMR     |San Marino   |13.937179562732041|\n",
    "|SVN     |Slovenia     |10.370805779121202|\n",
    "|LUX     |Luxembourg   |9.847342390123583 |\n",
    "|ISR     |Israel       |9.625106044786802 |\n",
    "|USA     |United States|9.203010995860707 |\n",
    "|SRB     |Serbia       |8.826328557933492 |\n",
    "|BHR     |Bahrain      |8.488860079114566 |\n",
    "|PAN     |Panama       |8.228739065460761 |\n",
    "|PRT     |Portugal     |8.058699735120367 |\n",
    "|EST     |Estonia      |8.022681579659551 |\n",
    "|SWE     |Sweden       |7.969744347858805 |\n",
    "|LTU     |Lithuania    |7.938864728274824 |\n",
    "+--------+-------------+------------------+\n",
    "only showing top 15 rows\n",
    "```\n"
   ],
   "metadata": {
    "collapsed": false
   }
  },
  {
   "cell_type": "code",
   "execution_count": null,
   "outputs": [],
   "source": [
    "\n",
    "data_2 = data.filter(data.date.between('2021-03-25', '2021-03-31')).select('iso_code','date','location','new_cases')\n",
    "data_2 = data_2.withColumn('new_cases', data_2.new_cases.cast('double'))\n",
    "data_m = data_2.groupBy('iso_code', 'location').agg(F.max(data_2.new_cases).alias('max_new_cases'))\n",
    "data_m = data_m.join(data_2, ['iso_code', 'location']).filter('new_cases == max_new_cases')\n",
    "data_m = data_m.select('date','location','new_cases').orderBy('new_cases', ascending=False)\n",
    "data_m.show(10, False)\n"
   ],
   "metadata": {
    "collapsed": false,
    "pycharm": {
     "name": "#%%\n"
    }
   }
  },
  {
   "cell_type": "markdown",
   "source": [
    "```\n",
    "+----------+-------------+---------+\n",
    "|date      |location     |new_cases|\n",
    "+----------+-------------+---------+\n",
    "|2021-03-25|Brazil       |100158.0 |\n",
    "|2021-03-26|United States|77321.0  |\n",
    "|2021-03-31|India        |72330.0  |\n",
    "|2021-03-31|France       |59054.0  |\n",
    "|2021-03-31|Turkey       |39302.0  |\n",
    "|2021-03-26|Poland       |35145.0  |\n",
    "|2021-03-31|Germany      |25014.0  |\n",
    "|2021-03-26|Italy        |24076.0  |\n",
    "|2021-03-25|Peru         |19206.0  |\n",
    "|2021-03-26|Ukraine      |18226.0  |\n",
    "+----------+-------------+---------+\n",
    "only showing top 10 rows\n",
    "```\n"
   ],
   "metadata": {
    "collapsed": false,
    "pycharm": {
     "name": "#%% md\n"
    }
   }
  },
  {
   "cell_type": "code",
   "execution_count": null,
   "outputs": [],
   "source": [
    "\n",
    "data_3 = data.filter(data.date.between('2021-03-24', '2021-03-31') & (data.iso_code == 'RUS')).select('iso_code', 'date','new_cases')\n",
    "window = Window.partitionBy('iso_code').orderBy(data_3.date)\n",
    "data_3 = data_3.withColumn('prev_cases', F.lag('new_cases').over(window))\n",
    "data_3 = data_3.withColumn('delta', data_3.new_cases - data_3.prev_cases)\n",
    "data_3.show()\n"
   ],
   "metadata": {
    "collapsed": false,
    "pycharm": {
     "name": "#%%\n"
    }
   }
  },
  {
   "cell_type": "markdown",
   "source": [
    "```\n",
    "+--------+----------+---------+----------+------+\n",
    "|iso_code|      date|new_cases|prev_cases| delta|\n",
    "+--------+----------+---------+----------+------+\n",
    "|     RUS|2021-03-24|   8769.0|      null|  null|\n",
    "|     RUS|2021-03-25|   9128.0|    8769.0| 359.0|\n",
    "|     RUS|2021-03-26|   9073.0|    9128.0| -55.0|\n",
    "|     RUS|2021-03-27|   8783.0|    9073.0|-290.0|\n",
    "|     RUS|2021-03-28|   8979.0|    8783.0| 196.0|\n",
    "|     RUS|2021-03-29|   8589.0|    8979.0|-390.0|\n",
    "|     RUS|2021-03-30|   8162.0|    8589.0|-427.0|\n",
    "|     RUS|2021-03-31|   8156.0|    8162.0|  -6.0|\n",
    "+--------+----------+---------+----------+------+\n",
    "```\n",
    "\n"
   ],
   "metadata": {
    "collapsed": false,
    "pycharm": {
     "name": "#%% md\n"
    }
   }
  }
 ],
 "metadata": {
  "language_info": {
   "codemirror_mode": {
    "name": "ipython",
    "version": 2
   },
   "file_extension": ".py",
   "mimetype": "text/x-python",
   "name": "python",
   "nbconvert_exporter": "python",
   "pygments_lexer": "ipython2",
   "version": "2.7.6"
  },
  "kernelspec": {
   "name": "python3",
   "language": "python",
   "display_name": "Python 3"
  },
  "pycharm": {
   "stem_cell": {
    "cell_type": "raw",
    "source": [],
    "metadata": {
     "collapsed": false
    }
   }
  }
 },
 "nbformat": 4,
 "nbformat_minor": 0
}