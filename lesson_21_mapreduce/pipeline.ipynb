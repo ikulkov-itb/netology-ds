{
 "cells": [
  {
   "cell_type": "code",
   "execution_count": 1,
   "metadata": {
    "pycharm": {
     "is_executing": false
    }
   },
   "outputs": [
    {
     "name": "stdout",
     "text": [
      "в 5720\r\nсмотреть 4116\r\nонлайн 3992\r\nна 3867\r\nфильм 3515\r\nпо 2678\r\n2016 2515\r\nи 2199\r\nсайт 2093\r\nс 2090\r\nsort: write failed: 'standard output': Broken pipe\r\nsort: write error\r\n"
     ],
     "output_type": "stream"
    }
   ],
   "source": [
    "!cat ../../data/keywords.csv | python mapper.py | sort | python reducer.py | sort -k 2 -n -r | head -n 10"
   ]
  }
 ],
 "metadata": {
  "kernelspec": {
   "display_name": "Python 3",
   "language": "python",
   "name": "python3"
  },
  "language_info": {
   "codemirror_mode": {
    "name": "ipython",
    "version": 3
   },
   "file_extension": ".py",
   "mimetype": "text/x-python",
   "name": "python",
   "nbconvert_exporter": "python",
   "pygments_lexer": "ipython3",
   "version": "3.7.3"
  }
 },
 "nbformat": 4,
 "nbformat_minor": 4
}