{
 "cells": [
  {
   "cell_type": "markdown",
   "metadata": {},
   "source": [
    "# Чтение файлов\n",
    "Рассматриваем задачу сквозной аналитики. Будем работать с этими файлами:\n",
    "- visit_log.csv\n",
    "- purchase_log.txt"
   ]
  },
  {
   "cell_type": "markdown",
   "metadata": {},
   "source": [
    "### Способ 1. Делаем все пошагово\n",
    "Опции при открытии файлов:\n",
    "- 'r' открыть для чтения. Файл при этом не меняется\n",
    "- 'w' открыть файл для записи. Файл при этом полностью чистится (!)\n",
    "- 'a' открыть файл для добавления. Файл не меняется, все записи добавляются в конец"
   ]
  },
  {
   "cell_type": "code",
   "execution_count": 2,
   "metadata": {},
   "outputs": [],
   "source": [
    "# открываем файл для чтения (опция r)\n",
    "f = open('visit_log.csv', 'r', encoding='utf-8')"
   ]
  },
  {
   "cell_type": "code",
   "execution_count": 3,
   "metadata": {},
   "outputs": [
    {
     "data": {
      "text/plain": [
       "<_io.TextIOWrapper name='visit_log.csv' mode='r' encoding='utf-8'>"
      ]
     },
     "execution_count": 3,
     "metadata": {},
     "output_type": "execute_result"
    }
   ],
   "source": [
    "f"
   ]
  },
  {
   "cell_type": "code",
   "execution_count": 4,
   "metadata": {},
   "outputs": [
    {
     "data": {
      "text/plain": [
       "192"
      ]
     },
     "execution_count": 4,
     "metadata": {},
     "output_type": "execute_result"
    }
   ],
   "source": [
    "f.__sizeof__()"
   ]
  },
  {
   "cell_type": "code",
   "execution_count": 5,
   "metadata": {
    "scrolled": true
   },
   "outputs": [
    {
     "data": {
      "text/plain": [
       "'user_id,source\\n'"
      ]
     },
     "execution_count": 5,
     "metadata": {},
     "output_type": "execute_result"
    }
   ],
   "source": [
    "# прочитать первую строчку\n",
    "f.readline()"
   ]
  },
  {
   "cell_type": "code",
   "execution_count": 6,
   "metadata": {},
   "outputs": [
    {
     "data": {
      "text/plain": [
       "'6450655ae8,other\\n'"
      ]
     },
     "execution_count": 6,
     "metadata": {},
     "output_type": "execute_result"
    }
   ],
   "source": [
    "# прочитать еще одну\n",
    "f.readline()"
   ]
  },
  {
   "cell_type": "code",
   "execution_count": 7,
   "metadata": {},
   "outputs": [
    {
     "data": {
      "text/plain": [
       "'b4ea53e670,other\\n'"
      ]
     },
     "execution_count": 7,
     "metadata": {},
     "output_type": "execute_result"
    }
   ],
   "source": [
    "# можно и так\n",
    "next(f)"
   ]
  },
  {
   "cell_type": "code",
   "execution_count": 10,
   "metadata": {},
   "outputs": [],
   "source": [
    "# прочитать все содержимое файла в переменную content\n",
    "content = f.readlines()"
   ]
  },
  {
   "cell_type": "code",
   "execution_count": 11,
   "metadata": {},
   "outputs": [
    {
     "data": {
      "text/plain": [
       "['71bcf169b4,other\\n',\n",
       " 'e0aee73c5d,other\\n',\n",
       " '1f8845e157,context\\n',\n",
       " '78d22c5c78,other\\n',\n",
       " 'dd85040770,other\\n']"
      ]
     },
     "execution_count": 11,
     "metadata": {},
     "output_type": "execute_result"
    }
   ],
   "source": [
    "content[:5]"
   ]
  },
  {
   "cell_type": "code",
   "execution_count": 12,
   "metadata": {},
   "outputs": [
    {
     "data": {
      "text/plain": [
       "'c23704ea54,other\\n'"
      ]
     },
     "execution_count": 12,
     "metadata": {},
     "output_type": "execute_result"
    }
   ],
   "source": [
    "content[-1]"
   ]
  },
  {
   "cell_type": "code",
   "execution_count": 13,
   "metadata": {},
   "outputs": [
    {
     "data": {
      "text/plain": [
       "0"
      ]
     },
     "execution_count": 13,
     "metadata": {},
     "output_type": "execute_result"
    }
   ],
   "source": [
    "f.seek(0)"
   ]
  },
  {
   "cell_type": "code",
   "execution_count": 14,
   "metadata": {
    "scrolled": true
   },
   "outputs": [
    {
     "data": {
      "text/plain": [
       "'user_id,source\\n'"
      ]
     },
     "execution_count": 14,
     "metadata": {},
     "output_type": "execute_result"
    }
   ],
   "source": [
    "f.readline()"
   ]
  },
  {
   "cell_type": "code",
   "execution_count": 1,
   "metadata": {},
   "outputs": [
    {
     "ename": "NameError",
     "evalue": "name 'f' is not defined",
     "output_type": "error",
     "traceback": [
      "\u001b[0;31m---------------------------------------------------------------------------\u001b[0m",
      "\u001b[0;31mNameError\u001b[0m                                 Traceback (most recent call last)",
      "\u001b[0;32m<ipython-input-1-2789326114c7>\u001b[0m in \u001b[0;36m<module>\u001b[0;34m\u001b[0m\n\u001b[1;32m      1\u001b[0m \u001b[0;31m# построчное чтение файла\u001b[0m\u001b[0;34m\u001b[0m\u001b[0;34m\u001b[0m\u001b[0;34m\u001b[0m\u001b[0m\n\u001b[0;32m----> 2\u001b[0;31m \u001b[0;32mfor\u001b[0m \u001b[0mline\u001b[0m \u001b[0;32min\u001b[0m \u001b[0mf\u001b[0m\u001b[0;34m:\u001b[0m\u001b[0;34m\u001b[0m\u001b[0;34m\u001b[0m\u001b[0m\n\u001b[0m\u001b[1;32m      3\u001b[0m     \u001b[0mprint\u001b[0m\u001b[0;34m(\u001b[0m\u001b[0mline\u001b[0m\u001b[0;34m)\u001b[0m\u001b[0;34m\u001b[0m\u001b[0;34m\u001b[0m\u001b[0m\n\u001b[1;32m      4\u001b[0m     \u001b[0;32mbreak\u001b[0m\u001b[0;34m\u001b[0m\u001b[0;34m\u001b[0m\u001b[0m\n",
      "\u001b[0;31mNameError\u001b[0m: name 'f' is not defined"
     ]
    }
   ],
   "source": [
    "# построчное чтение файла\n",
    "for line in f:\n",
    "    print(line)\n",
    "#     break"
   ]
  },
  {
   "cell_type": "code",
   "execution_count": 22,
   "metadata": {
    "scrolled": true
   },
   "outputs": [
    {
     "name": "stdout",
     "output_type": "stream",
     "text": [
      "d94b908660,None\n",
      "\n",
      "f697206af5,other\n",
      "\n",
      "8a9a2de36e,other\n",
      "\n",
      "dd3d43c266,context\n",
      "\n",
      "f6401d302f,context\n",
      "\n",
      "b18d58560b,email\n",
      "\n"
     ]
    }
   ],
   "source": [
    "i = 0\n",
    "for line in f:\n",
    "    print(line)\n",
    "    \n",
    "    i += 1\n",
    "    if i > 5:\n",
    "        break"
   ]
  },
  {
   "cell_type": "code",
   "execution_count": 8,
   "metadata": {
    "scrolled": true
   },
   "outputs": [
    {
     "name": "stdout",
     "output_type": "stream",
     "text": [
      "0 0e37347152,other\n",
      "\n",
      "1 96064ae9e0,other\n",
      "\n",
      "2 e1bd168161,context\n",
      "\n",
      "3 71bcf169b4,other\n",
      "\n",
      "4 e0aee73c5d,other\n",
      "\n",
      "5 1f8845e157,context\n",
      "\n",
      "6 78d22c5c78,other\n",
      "\n"
     ]
    }
   ],
   "source": [
    "for i, line in enumerate(f):\n",
    "    print(i, line)\n",
    "    \n",
    "    if i > 5:\n",
    "        break"
   ]
  },
  {
   "cell_type": "markdown",
   "metadata": {},
   "source": [
    "Часто используется конструкция \n",
    "```python\n",
    "another_line.strip().split(',')\n",
    "```"
   ]
  },
  {
   "cell_type": "code",
   "execution_count": 24,
   "metadata": {},
   "outputs": [
    {
     "data": {
      "text/plain": [
       "'ceda3a4603,other\\n'"
      ]
     },
     "execution_count": 24,
     "metadata": {},
     "output_type": "execute_result"
    }
   ],
   "source": [
    "another_line = f.readline()\n",
    "another_line"
   ]
  },
  {
   "cell_type": "code",
   "execution_count": 25,
   "metadata": {},
   "outputs": [
    {
     "data": {
      "text/plain": [
       "'ceda3a4603,other'"
      ]
     },
     "execution_count": 25,
     "metadata": {},
     "output_type": "execute_result"
    }
   ],
   "source": [
    "# удаляем перенос строки и лишние пробелы\n",
    "another_line.strip()"
   ]
  },
  {
   "cell_type": "code",
   "execution_count": 27,
   "metadata": {},
   "outputs": [
    {
     "data": {
      "text/plain": [
       "'ceda3a4603,other\\n'"
      ]
     },
     "execution_count": 27,
     "metadata": {},
     "output_type": "execute_result"
    }
   ],
   "source": [
    "';ceda3a4603,other\\n;--!--'.strip(';-!')"
   ]
  },
  {
   "cell_type": "code",
   "execution_count": 28,
   "metadata": {},
   "outputs": [
    {
     "data": {
      "text/plain": [
       "['ceda3a4603', 'other']"
      ]
     },
     "execution_count": 28,
     "metadata": {},
     "output_type": "execute_result"
    }
   ],
   "source": [
    "# разбиваем столбцы\n",
    "another_line.strip().split(',')"
   ]
  },
  {
   "cell_type": "code",
   "execution_count": 9,
   "metadata": {},
   "outputs": [],
   "source": [
    "# закрытие файла\n",
    "f.close()"
   ]
  },
  {
   "cell_type": "code",
   "execution_count": 10,
   "metadata": {},
   "outputs": [
    {
     "ename": "ValueError",
     "evalue": "I/O operation on closed file.",
     "output_type": "error",
     "traceback": [
      "\u001b[0;31m---------------------------------------------------------------------------\u001b[0m",
      "\u001b[0;31mValueError\u001b[0m                                Traceback (most recent call last)",
      "\u001b[0;32m<ipython-input-10-f561c2044435>\u001b[0m in \u001b[0;36m<module>\u001b[0;34m\u001b[0m\n\u001b[1;32m      1\u001b[0m \u001b[0;31m# после закрытия не получится прочитать\u001b[0m\u001b[0;34m\u001b[0m\u001b[0;34m\u001b[0m\u001b[0;34m\u001b[0m\u001b[0m\n\u001b[0;32m----> 2\u001b[0;31m \u001b[0mf\u001b[0m\u001b[0;34m.\u001b[0m\u001b[0mreadline\u001b[0m\u001b[0;34m(\u001b[0m\u001b[0;34m)\u001b[0m\u001b[0;34m\u001b[0m\u001b[0;34m\u001b[0m\u001b[0m\n\u001b[0m",
      "\u001b[0;31mValueError\u001b[0m: I/O operation on closed file."
     ]
    }
   ],
   "source": [
    "# после закрытия не получится прочитать\n",
    "f.readline()"
   ]
  },
  {
   "cell_type": "code",
   "execution_count": 31,
   "metadata": {},
   "outputs": [],
   "source": [
    "# прочитать все строчки файла в список (т. е. в оперативную память)\n",
    "f = open('visit_log.csv', 'r')\n",
    "\n",
    "content = f.readlines()\n",
    "\n",
    "f.close()"
   ]
  },
  {
   "cell_type": "code",
   "execution_count": 32,
   "metadata": {},
   "outputs": [
    {
     "data": {
      "text/plain": [
       "['user_id,source\\n',\n",
       " '6450655ae8,other\\n',\n",
       " 'b4ea53e670,other\\n',\n",
       " '0e37347152,other\\n',\n",
       " '96064ae9e0,other\\n']"
      ]
     },
     "execution_count": 32,
     "metadata": {},
     "output_type": "execute_result"
    }
   ],
   "source": [
    "content[:5]"
   ]
  },
  {
   "cell_type": "markdown",
   "metadata": {},
   "source": [
    "# Запись в файл\n",
    "Зачем все-таки открывать и закрывать файлы?"
   ]
  },
  {
   "cell_type": "code",
   "execution_count": 33,
   "metadata": {},
   "outputs": [],
   "source": [
    "f = open('results.csv', 'w')"
   ]
  },
  {
   "cell_type": "code",
   "execution_count": 34,
   "metadata": {},
   "outputs": [
    {
     "data": {
      "text/plain": [
       "32"
      ]
     },
     "execution_count": 34,
     "metadata": {},
     "output_type": "execute_result"
    }
   ],
   "source": [
    "f.write('Начинаю запись первой строки...\\n')"
   ]
  },
  {
   "cell_type": "code",
   "execution_count": 35,
   "metadata": {},
   "outputs": [
    {
     "data": {
      "text/plain": [
       "32"
      ]
     },
     "execution_count": 35,
     "metadata": {},
     "output_type": "execute_result"
    }
   ],
   "source": [
    "f.write('Начинаю запись второй строки...\\n')"
   ]
  },
  {
   "cell_type": "markdown",
   "metadata": {},
   "source": [
    "Здесь кто-то еще хочет в него записать"
   ]
  },
  {
   "cell_type": "code",
   "execution_count": 36,
   "metadata": {},
   "outputs": [],
   "source": [
    "my_friend_results = open('results.csv', 'w')"
   ]
  },
  {
   "cell_type": "code",
   "execution_count": 37,
   "metadata": {},
   "outputs": [
    {
     "data": {
      "text/plain": [
       "23"
      ]
     },
     "execution_count": 37,
     "metadata": {},
     "output_type": "execute_result"
    }
   ],
   "source": [
    "my_friend_results.write('Тут еще результаты есть')"
   ]
  },
  {
   "cell_type": "code",
   "execution_count": 15,
   "metadata": {},
   "outputs": [],
   "source": [
    "# пишем свой результат\n",
    "f.close()"
   ]
  },
  {
   "cell_type": "code",
   "execution_count": 39,
   "metadata": {},
   "outputs": [],
   "source": [
    "# и наш результат перезатирается\n",
    "my_friend_results.close()"
   ]
  },
  {
   "cell_type": "markdown",
   "metadata": {},
   "source": [
    "### Контекстный менеджер\n",
    "Как обезопасить себя от подобных накладок"
   ]
  },
  {
   "cell_type": "code",
   "execution_count": 11,
   "metadata": {},
   "outputs": [],
   "source": [
    "with open('results.csv', 'w') as f:\n",
    "    f.write('Начинаю запись первой строки...\\n')\n",
    "    f.write('Начинаю запись второй строки...\\n')\n",
    "    \n",
    "    my_friend_results = open('results.csv', 'w')\n",
    "    my_friend_results.write('Тут еще результаты есть')\n",
    "    my_friend_results.close()"
   ]
  },
  {
   "cell_type": "markdown",
   "metadata": {},
   "source": [
    "### А можно читать и сразу в файл записывать?\n",
    "Напишите функцию, которая фильтрует файл visit_log.csv по источнику context и пишет результат в visits_context.csv. Используйте функцию из второго упражнения для проверки результата."
   ]
  },
  {
   "cell_type": "code",
   "execution_count": 12,
   "metadata": {},
   "outputs": [],
   "source": [
    "with open('visit_log.csv', 'r') as f:\n",
    "    with open('visits_context.csv', 'w') as f2write:\n",
    "        for line in f:\n",
    "            if 'context' in line:\n",
    "                f2write.write(line)"
   ]
  },
  {
   "cell_type": "code",
   "execution_count": null,
   "metadata": {},
   "outputs": [],
   "source": []
  },
  {
   "cell_type": "markdown",
   "metadata": {},
   "source": [
    "# Чтение списков и словарей из файла\n",
    "Смотрим что в файле purchase_log.txt. Похоже тут не строки, а словари"
   ]
  },
  {
   "cell_type": "code",
   "execution_count": 14,
   "metadata": {},
   "outputs": [
    {
     "name": "stdout",
     "output_type": "stream",
     "text": [
      "['{\"user_id\": \"user_id\", \"category\": \"category\"}\\n', '{\"user_id\": \"1840e0b9d4\", \"category\": \"Продукты\"}\\n', '{\"user_id\": \"4e4f90fcfb\", \"category\": \"Электроника\"}\\n', '{\"user_id\": \"afea8d72fc\", \"category\": \"Электроника\"}\\n', '{\"user_id\": \"373a6055fe\", \"category\": \"Бытовая техника\"}\\n']\n"
     ]
    }
   ],
   "source": [
    "with open('purchase_log.txt') as f:\n",
    "    print([next(f) for x in range(5)])"
   ]
  },
  {
   "cell_type": "code",
   "execution_count": 13,
   "metadata": {},
   "outputs": [],
   "source": [
    "import json"
   ]
  },
  {
   "cell_type": "code",
   "execution_count": 44,
   "metadata": {},
   "outputs": [
    {
     "data": {
      "text/plain": [
       "dict"
      ]
     },
     "execution_count": 44,
     "metadata": {},
     "output_type": "execute_result"
    }
   ],
   "source": [
    "# перевод строки в словарь\n",
    "dict_in_string = '{\"a\": 1, \"b\": 2}'\n",
    "\n",
    "type(json.loads(dict_in_string))"
   ]
  },
  {
   "cell_type": "code",
   "execution_count": 45,
   "metadata": {
    "scrolled": true
   },
   "outputs": [
    {
     "data": {
      "text/plain": [
       "{'a': 1, 'b': 2}"
      ]
     },
     "execution_count": 45,
     "metadata": {},
     "output_type": "execute_result"
    }
   ],
   "source": [
    "json.loads(dict_in_string)"
   ]
  },
  {
   "cell_type": "code",
   "execution_count": 47,
   "metadata": {},
   "outputs": [
    {
     "data": {
      "text/plain": [
       "3"
      ]
     },
     "execution_count": 47,
     "metadata": {},
     "output_type": "execute_result"
    }
   ],
   "source": [
    "# перевод строки в список\n",
    "list_in_string = '[1, 2, 3]'\n",
    "\n",
    "json.loads(list_in_string)[-1]"
   ]
  },
  {
   "cell_type": "code",
   "execution_count": 48,
   "metadata": {},
   "outputs": [
    {
     "data": {
      "text/plain": [
       "[1, 2, 3]"
      ]
     },
     "execution_count": 48,
     "metadata": {},
     "output_type": "execute_result"
    }
   ],
   "source": [
    "json.loads(list_in_string)"
   ]
  },
  {
   "cell_type": "code",
   "execution_count": 49,
   "metadata": {},
   "outputs": [
    {
     "name": "stdout",
     "output_type": "stream",
     "text": [
      "{'user_id': 'user_id', 'category': 'category'} <class 'dict'>\n",
      "{'user_id': '1840e0b9d4', 'category': 'Продукты'} <class 'dict'>\n",
      "{'user_id': '4e4f90fcfb', 'category': 'Электроника'} <class 'dict'>\n",
      "{'user_id': 'afea8d72fc', 'category': 'Электроника'} <class 'dict'>\n",
      "{'user_id': '373a6055fe', 'category': 'Бытовая техника'} <class 'dict'>\n",
      "{'user_id': '9b2ab046f3', 'category': 'Электроника'} <class 'dict'>\n"
     ]
    }
   ],
   "source": [
    "i = 0\n",
    "with open('purchase_log.txt') as f:\n",
    "    for line in f:\n",
    "        line = line.strip()\n",
    "        \n",
    "        dict_ = json.loads(line)\n",
    "        print(dict_, type(dict_))\n",
    "        \n",
    "        i += 1\n",
    "        if i > 5:\n",
    "            break"
   ]
  },
  {
   "cell_type": "code",
   "execution_count": null,
   "metadata": {},
   "outputs": [],
   "source": [
    "dict_ = 1"
   ]
  },
  {
   "cell_type": "markdown",
   "metadata": {},
   "source": [
    "### Из словаря в строку тоже можно"
   ]
  },
  {
   "cell_type": "code",
   "execution_count": 50,
   "metadata": {},
   "outputs": [],
   "source": [
    "data = {'user_id': '1840e0b9d4', 'category': 'Продукты'}"
   ]
  },
  {
   "cell_type": "code",
   "execution_count": 51,
   "metadata": {},
   "outputs": [
    {
     "data": {
      "text/plain": [
       "\"{'user_id': '1840e0b9d4', 'category': 'Продукты'}\""
      ]
     },
     "execution_count": 51,
     "metadata": {},
     "output_type": "execute_result"
    }
   ],
   "source": [
    "str(data)"
   ]
  },
  {
   "cell_type": "code",
   "execution_count": 52,
   "metadata": {
    "scrolled": true
   },
   "outputs": [
    {
     "data": {
      "text/plain": [
       "'{\"user_id\": \"1840e0b9d4\", \"category\": \"\\\\u041f\\\\u0440\\\\u043e\\\\u0434\\\\u0443\\\\u043a\\\\u0442\\\\u044b\"}'"
      ]
     },
     "execution_count": 52,
     "metadata": {},
     "output_type": "execute_result"
    }
   ],
   "source": [
    "json.dumps(data)"
   ]
  },
  {
   "cell_type": "code",
   "execution_count": 53,
   "metadata": {},
   "outputs": [
    {
     "data": {
      "text/plain": [
       "str"
      ]
     },
     "execution_count": 53,
     "metadata": {},
     "output_type": "execute_result"
    }
   ],
   "source": [
    "type(json.dumps(data))"
   ]
  },
  {
   "cell_type": "markdown",
   "metadata": {},
   "source": [
    "# Модуль pickle\n",
    "Запись объекта сразу в файл как поток байтов"
   ]
  },
  {
   "cell_type": "code",
   "execution_count": 54,
   "metadata": {},
   "outputs": [],
   "source": [
    "import pickle"
   ]
  },
  {
   "cell_type": "code",
   "execution_count": 55,
   "metadata": {},
   "outputs": [],
   "source": [
    "data = {'user_id': '1840e0b9d4', 'category': 'Продукты'}"
   ]
  },
  {
   "cell_type": "code",
   "execution_count": 56,
   "metadata": {},
   "outputs": [],
   "source": [
    "with open('data.pickle', 'wb') as f:\n",
    "    pickle.dump(data, f)"
   ]
  },
  {
   "cell_type": "code",
   "execution_count": 57,
   "metadata": {},
   "outputs": [
    {
     "data": {
      "text/plain": [
       "({'user_id': '1840e0b9d4', 'category': 'Продукты'}, '1840e0b9d4')"
      ]
     },
     "execution_count": 57,
     "metadata": {},
     "output_type": "execute_result"
    }
   ],
   "source": [
    "# прочитать объект из такого файла\n",
    "\n",
    "with open('data.pickle', 'rb') as f:\n",
    "    dict_ = pickle.load(f)\n",
    "    \n",
    "dict_, dict_['user_id']"
   ]
  },
  {
   "cell_type": "markdown",
   "metadata": {},
   "source": [
    "# Чтение файлов из папки"
   ]
  },
  {
   "cell_type": "code",
   "execution_count": 62,
   "metadata": {},
   "outputs": [],
   "source": [
    "import os"
   ]
  },
  {
   "cell_type": "code",
   "execution_count": 64,
   "metadata": {
    "scrolled": true
   },
   "outputs": [
    {
     "name": "stdout",
     "output_type": "stream",
     "text": [
      "file_2.csv\n",
      "file_3.csv\n",
      "file_1.csv\n"
     ]
    }
   ],
   "source": [
    "# чтение файлов и папок\n",
    "for file in os.listdir('data'):\n",
    "    if '.csv' in file:\n",
    "        print(file)"
   ]
  },
  {
   "cell_type": "code",
   "execution_count": 65,
   "metadata": {},
   "outputs": [
    {
     "name": "stdout",
     "output_type": "stream",
     "text": [
      "data ['more_data'] ['.DS_Store', 'file_2.csv', 'file_3.csv', 'file_1.csv']\n",
      "data/more_data [] ['file_4.csv', 'file_5.csv']\n"
     ]
    }
   ],
   "source": [
    "# чтение всех файлов и папок, в том числе вложенных\n",
    "for root, directory, file in os.walk('data'):\n",
    "    print(root, directory, file)"
   ]
  },
  {
   "cell_type": "markdown",
   "metadata": {},
   "source": [
    "# Каталог пакетов pip (Python Package Index)\n",
    "Варианты установки\n",
    "1. С помощью Anaconda Navigator\n",
    "2. В командной строке (Terminal на маке)\n",
    "```bash\n",
    "pip install package_name\n",
    "```\n",
    "3. Скачать версию с github и установить вручную\n",
    "```bash\n",
    "pip install .\n",
    "```\n",
    "\n",
    "Пакеты устанавливаются в определенное окружение! Вам пригодится virtualenv"
   ]
  },
  {
   "cell_type": "code",
   "execution_count": 18,
   "metadata": {},
   "outputs": [
    {
     "name": "stdout",
     "output_type": "stream",
     "text": [
      "Collecting plotly\n",
      "  Downloading plotly-4.14.3-py2.py3-none-any.whl (13.2 MB)\n",
      "\u001b[K     |████████████████████████████████| 13.2 MB 15.8 MB/s eta 0:00:01\n",
      "\u001b[?25hRequirement already satisfied: six in /home/ikulkov/venv37/lib/python3.7/site-packages (from plotly) (1.14.0)\n",
      "Collecting retrying>=1.3.3\n",
      "  Downloading retrying-1.3.3.tar.gz (10 kB)\n",
      "Requirement already satisfied: six in /home/ikulkov/venv37/lib/python3.7/site-packages (from plotly) (1.14.0)\n",
      "Building wheels for collected packages: retrying\n",
      "  Building wheel for retrying (setup.py) ... \u001b[?25ldone\n",
      "\u001b[?25h  Created wheel for retrying: filename=retrying-1.3.3-py3-none-any.whl size=11430 sha256=9256bf424131fecd4e5ac7f4cdd32cc297a357b4430fe121e354095fd2ad206d\n",
      "  Stored in directory: /home/ikulkov/.cache/pip/wheels/f9/8d/8d/f6af3f7f9eea3553bc2fe6d53e4b287dad18b06a861ac56ddf\n",
      "Successfully built retrying\n",
      "Installing collected packages: retrying, plotly\n",
      "Successfully installed plotly-4.14.3 retrying-1.3.3\n",
      "\u001b[33mWARNING: You are using pip version 20.3.1; however, version 20.3.3 is available.\n",
      "You should consider upgrading via the '/home/ikulkov/venv37/bin/python3 -m pip install --upgrade pip' command.\u001b[0m\n"
     ]
    }
   ],
   "source": [
    "!pip install plotly"
   ]
  },
  {
   "cell_type": "code",
   "execution_count": 19,
   "metadata": {},
   "outputs": [],
   "source": [
    "import plotly"
   ]
  },
  {
   "cell_type": "markdown",
   "metadata": {},
   "source": [
    "# Домашнее задание к лекции \"Работа с файловой системой и модули\"\n",
    "\n",
    "* Переведите содержимое файла purchase_log.txt в словарь purchases вида: {‘1840e0b9d4’: ‘Продукты’, …}\n",
    "\n",
    "* Для каждого user_id в файле visit_log.csv определите третий столбец с категорией покупки (если покупка была, сам файл visit_log.csv изменять не надо). Запишите в файл funnel.csv визиты из файла visit_log.csv, в которых были покупки с указанием категории.\n",
    "\n",
    "Учтите условия на данные:\n",
    "содержимое purchase_log.txt помещается в оперативную память компьютера\n",
    "содержимое visit_log.csv - нет; используйте только построчную обработку этого файла"
   ]
  },
  {
   "cell_type": "code",
   "execution_count": 46,
   "metadata": {},
   "outputs": [
    {
     "name": "stdout",
     "output_type": "stream",
     "text": [
      "Total purchases: 99999\n",
      "Total lines: 199999; with categories: 13798\n"
     ]
    }
   ],
   "source": [
    "user_purchases = {}\n",
    "\n",
    "with open('purchase_log.txt', 'r') as fp:\n",
    "    for i, line in enumerate(fp):\n",
    "        if i > 0:\n",
    "            data = json.loads(line)\n",
    "            user_purchases[data['user_id']] = data['category']\n",
    "    print('Total purchases: %d' % i)\n",
    "\n",
    "with open('visit_log.csv', 'r') as fv:\n",
    "    with open('funnel.csv', 'w') as ff:\n",
    "        j = 0\n",
    "        for i, line in enumerate(fv):\n",
    "            data = line.strip().split(',')\n",
    "            if i == 0:\n",
    "                data.append('category')\n",
    "                ff.write(','.join(data) + '\\n')\n",
    "            else:\n",
    "                category = user_purchases.get(data[0])\n",
    "                if category:\n",
    "                    j += 1\n",
    "                    data.append(category)\n",
    "                    ff.write(','.join(data) + '\\n')\n",
    "        print('Total lines: %d; with categories: %d' % (i, j))\n",
    "\n",
    "del user_purchases"
   ]
  }
 ],
 "metadata": {
  "kernelspec": {
   "display_name": "Python 3",
   "language": "python",
   "name": "python3"
  },
  "language_info": {
   "codemirror_mode": {
    "name": "ipython",
    "version": 3
   },
   "file_extension": ".py",
   "mimetype": "text/x-python",
   "name": "python",
   "nbconvert_exporter": "python",
   "pygments_lexer": "ipython3",
   "version": "3.7.3"
  }
 },
 "nbformat": 4,
 "nbformat_minor": 2
}
