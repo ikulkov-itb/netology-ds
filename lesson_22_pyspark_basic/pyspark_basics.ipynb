{
 "cells": [
  {
   "cell_type": "code",
   "execution_count": null,
   "outputs": [],
   "source": [
    "from pyspark.context import SparkContext\n",
    "sc = SparkContext()\n"
   ],
   "metadata": {
    "collapsed": false,
    "pycharm": {
     "name": "#%%\n"
    }
   }
  },
  {
   "cell_type": "code",
   "execution_count": null,
   "outputs": [],
   "source": [
    "import re\n"
   ],
   "metadata": {
    "collapsed": false,
    "pycharm": {
     "name": "#%%\n"
    }
   }
  },
  {
   "cell_type": "code",
   "execution_count": null,
   "metadata": {
    "collapsed": true
   },
   "outputs": [],
   "source": [
    "# Читаем файл\n",
    "mv = sc.textFile('file:///home/kulkovil/test/mv.csv')\n",
    "\n",
    "# ['movieId,title,genres', '1,Toy Story (1995),Adventure|Animation|Children|Comedy|Fantasy',\n",
    "# '2,Jumanji (1995),Adventure|Children|Fantasy', '3,Grumpier Old Men (1995),Comedy|Romance',\n",
    "# '4,Waiting to Exhale (1995),Comedy|Drama|Romance']\n"
   ]
  },
  {
   "cell_type": "code",
   "execution_count": null,
   "outputs": [],
   "source": [
    "# Отделяем имена: разбиваем по запятым, берём все элементы кроме первого и последнего\n",
    "# (в названии фильма могут быть запятые), объединяем обратно в строку по запятой\n",
    "# и регулярным выражением удаляем год выпуска (если есть)\n",
    "mv_names = mv.map(lambda x: re.sub(r'(\\s\\(\\d{4}\\))', '', ','.join(x.split(',')[1:-1])))\n",
    "\n",
    "# ['title', 'Toy Story', 'Jumanji', 'Grumpier Old Men', 'Waiting to Exhale']\n"
   ],
   "metadata": {
    "collapsed": false,
    "pycharm": {
     "name": "#%%\n"
    }
   }
  },
  {
   "cell_type": "code",
   "execution_count": null,
   "outputs": [],
   "source": [
    "# Разбиваем названия на слова по символам, отличным от букво-цифр,\n",
    "# приводим к нижнему регистру и формируем ключи для подсчёта\n",
    "mv_words = mv_names.flatMap(lambda x: re.split(r'[^\\w\\'$#]', x)).filter(lambda x: x).map(lambda x: (x.lower(), 1))\n",
    "\n",
    "# [('title', 1), ('toy', 1), ('story', 1), ('jumanji', 1), ('grumpier', 1)]\n"
   ],
   "metadata": {
    "collapsed": false,
    "pycharm": {
     "name": "#%%\n"
    }
   }
  },
  {
   "cell_type": "code",
   "execution_count": null,
   "outputs": [],
   "source": [
    "# Подсчитываем слова по ключам, сортируем по убыванию количества\n",
    "mv_count = mv_words.reduceByKey(lambda a, b: a + b).sortBy(lambda x: x[1], ascending=False)\n",
    "\n",
    "# [('the', 3113), ('of', 975), ('a', 646), ('and', 355), ('in', 306)]\n"
   ],
   "metadata": {
    "collapsed": false,
    "pycharm": {
     "name": "#%%\n"
    }
   }
  }
 ],
 "metadata": {
  "language_info": {
   "codemirror_mode": {
    "name": "ipython",
    "version": 2
   },
   "file_extension": ".py",
   "mimetype": "text/x-python",
   "name": "python",
   "nbconvert_exporter": "python",
   "pygments_lexer": "ipython2",
   "version": "2.7.6"
  },
  "kernelspec": {
   "name": "python3",
   "language": "python",
   "display_name": "Python 3"
  },
  "pycharm": {
   "stem_cell": {
    "cell_type": "raw",
    "source": [],
    "metadata": {
     "collapsed": false
    }
   }
  }
 },
 "nbformat": 4,
 "nbformat_minor": 0
}