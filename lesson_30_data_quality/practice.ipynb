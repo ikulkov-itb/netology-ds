{
 "cells": [
  {
   "cell_type": "code",
   "execution_count": 206,
   "metadata": {},
   "outputs": [],
   "source": [
    "import numpy as np\n",
    "import pandas as pd\n",
    "from random import randint\n",
    "\n",
    "from sklearn.linear_model import LinearRegression"
   ]
  },
  {
   "cell_type": "markdown",
   "metadata": {},
   "source": [
    "Задаём зависимость цены от всех 4-х параметров"
   ]
  },
  {
   "cell_type": "code",
   "execution_count": 322,
   "metadata": {},
   "outputs": [
    {
     "data": {
      "text/html": [
       "<div>\n",
       "<style scoped>\n",
       "    .dataframe tbody tr th:only-of-type {\n",
       "        vertical-align: middle;\n",
       "    }\n",
       "\n",
       "    .dataframe tbody tr th {\n",
       "        vertical-align: top;\n",
       "    }\n",
       "\n",
       "    .dataframe thead th {\n",
       "        text-align: right;\n",
       "    }\n",
       "</style>\n",
       "<table border=\"1\" class=\"dataframe\">\n",
       "  <thead>\n",
       "    <tr style=\"text-align: right;\">\n",
       "      <th></th>\n",
       "      <th>age_owner</th>\n",
       "      <th>length</th>\n",
       "      <th>width</th>\n",
       "      <th>flat</th>\n",
       "      <th>price</th>\n",
       "    </tr>\n",
       "  </thead>\n",
       "  <tbody>\n",
       "    <tr>\n",
       "      <th>0</th>\n",
       "      <td>80</td>\n",
       "      <td>82</td>\n",
       "      <td>86</td>\n",
       "      <td>2</td>\n",
       "      <td>958640</td>\n",
       "    </tr>\n",
       "    <tr>\n",
       "      <th>1</th>\n",
       "      <td>32</td>\n",
       "      <td>42</td>\n",
       "      <td>75</td>\n",
       "      <td>26</td>\n",
       "      <td>1632888</td>\n",
       "    </tr>\n",
       "    <tr>\n",
       "      <th>2</th>\n",
       "      <td>60</td>\n",
       "      <td>81</td>\n",
       "      <td>66</td>\n",
       "      <td>27</td>\n",
       "      <td>3100680</td>\n",
       "    </tr>\n",
       "    <tr>\n",
       "      <th>3</th>\n",
       "      <td>26</td>\n",
       "      <td>22</td>\n",
       "      <td>64</td>\n",
       "      <td>7</td>\n",
       "      <td>429088</td>\n",
       "    </tr>\n",
       "    <tr>\n",
       "      <th>4</th>\n",
       "      <td>37</td>\n",
       "      <td>65</td>\n",
       "      <td>84</td>\n",
       "      <td>14</td>\n",
       "      <td>1366512</td>\n",
       "    </tr>\n",
       "  </tbody>\n",
       "</table>\n",
       "</div>"
      ],
      "text/plain": [
       "   age_owner  length  width  flat    price\n",
       "0         80      82     86     2   958640\n",
       "1         32      42     75    26  1632888\n",
       "2         60      81     66    27  3100680\n",
       "3         26      22     64     7   429088\n",
       "4         37      65     84    14  1366512"
      ]
     },
     "execution_count": 322,
     "metadata": {},
     "output_type": "execute_result"
    }
   ],
   "source": [
    "# Создаём сэмпл\n",
    "n_samples = 1000\n",
    "\n",
    "age_owner = np.random.choice(80, n_samples) + 21  # возраст владельца квартиры\n",
    "length = np.random.choice(120, n_samples) + 15  # длина квартиры\n",
    "width = np.random.choice(80, n_samples) + 10  # ширина (чтобы искусственно разложить площадь на составляющие)\n",
    "flat = np.random.choice(30, n_samples) + 1  # Этаж, на котором находится квартира\n",
    "\n",
    "price = 100 * length * width + age_owner * flat * randint(1000, 2000)\n",
    "\n",
    "data = pd.DataFrame({'age_owner': age_owner, 'length': length, 'width': width, 'flat': flat,\n",
    "                     'price': price})\n",
    "data.head(5)"
   ]
  },
  {
   "cell_type": "code",
   "execution_count": 323,
   "metadata": {},
   "outputs": [
    {
     "data": {
      "text/html": [
       "<div>\n",
       "<style scoped>\n",
       "    .dataframe tbody tr th:only-of-type {\n",
       "        vertical-align: middle;\n",
       "    }\n",
       "\n",
       "    .dataframe tbody tr th {\n",
       "        vertical-align: top;\n",
       "    }\n",
       "\n",
       "    .dataframe thead th {\n",
       "        text-align: right;\n",
       "    }\n",
       "</style>\n",
       "<table border=\"1\" class=\"dataframe\">\n",
       "  <thead>\n",
       "    <tr style=\"text-align: right;\">\n",
       "      <th></th>\n",
       "      <th>age_owner</th>\n",
       "      <th>length</th>\n",
       "      <th>width</th>\n",
       "      <th>flat</th>\n",
       "      <th>price</th>\n",
       "    </tr>\n",
       "  </thead>\n",
       "  <tbody>\n",
       "    <tr>\n",
       "      <th>count</th>\n",
       "      <td>1000.000000</td>\n",
       "      <td>1000.000000</td>\n",
       "      <td>1000.000000</td>\n",
       "      <td>1000.000000</td>\n",
       "      <td>1.000000e+03</td>\n",
       "    </tr>\n",
       "    <tr>\n",
       "      <th>mean</th>\n",
       "      <td>60.225000</td>\n",
       "      <td>72.807000</td>\n",
       "      <td>50.795000</td>\n",
       "      <td>15.225000</td>\n",
       "      <td>1.820920e+06</td>\n",
       "    </tr>\n",
       "    <tr>\n",
       "      <th>std</th>\n",
       "      <td>23.598416</td>\n",
       "      <td>34.739237</td>\n",
       "      <td>23.099146</td>\n",
       "      <td>8.708744</td>\n",
       "      <td>1.095008e+06</td>\n",
       "    </tr>\n",
       "    <tr>\n",
       "      <th>min</th>\n",
       "      <td>21.000000</td>\n",
       "      <td>15.000000</td>\n",
       "      <td>10.000000</td>\n",
       "      <td>1.000000</td>\n",
       "      <td>8.436800e+04</td>\n",
       "    </tr>\n",
       "    <tr>\n",
       "      <th>25%</th>\n",
       "      <td>38.000000</td>\n",
       "      <td>41.000000</td>\n",
       "      <td>31.000000</td>\n",
       "      <td>8.000000</td>\n",
       "      <td>9.643740e+05</td>\n",
       "    </tr>\n",
       "    <tr>\n",
       "      <th>50%</th>\n",
       "      <td>60.000000</td>\n",
       "      <td>72.000000</td>\n",
       "      <td>51.000000</td>\n",
       "      <td>15.000000</td>\n",
       "      <td>1.618290e+06</td>\n",
       "    </tr>\n",
       "    <tr>\n",
       "      <th>75%</th>\n",
       "      <td>81.000000</td>\n",
       "      <td>103.000000</td>\n",
       "      <td>71.000000</td>\n",
       "      <td>23.000000</td>\n",
       "      <td>2.501646e+06</td>\n",
       "    </tr>\n",
       "    <tr>\n",
       "      <th>max</th>\n",
       "      <td>100.000000</td>\n",
       "      <td>134.000000</td>\n",
       "      <td>89.000000</td>\n",
       "      <td>30.000000</td>\n",
       "      <td>5.538192e+06</td>\n",
       "    </tr>\n",
       "  </tbody>\n",
       "</table>\n",
       "</div>"
      ],
      "text/plain": [
       "         age_owner       length        width         flat         price\n",
       "count  1000.000000  1000.000000  1000.000000  1000.000000  1.000000e+03\n",
       "mean     60.225000    72.807000    50.795000    15.225000  1.820920e+06\n",
       "std      23.598416    34.739237    23.099146     8.708744  1.095008e+06\n",
       "min      21.000000    15.000000    10.000000     1.000000  8.436800e+04\n",
       "25%      38.000000    41.000000    31.000000     8.000000  9.643740e+05\n",
       "50%      60.000000    72.000000    51.000000    15.000000  1.618290e+06\n",
       "75%      81.000000   103.000000    71.000000    23.000000  2.501646e+06\n",
       "max     100.000000   134.000000    89.000000    30.000000  5.538192e+06"
      ]
     },
     "execution_count": 323,
     "metadata": {},
     "output_type": "execute_result"
    }
   ],
   "source": [
    "data.describe()"
   ]
  },
  {
   "cell_type": "markdown",
   "metadata": {},
   "source": [
    "Смотрим ошибки прогнозирования на одних только исходных данных"
   ]
  },
  {
   "cell_type": "code",
   "execution_count": 324,
   "metadata": {},
   "outputs": [
    {
     "name": "stdout",
     "output_type": "stream",
     "text": [
      "Weights: [24253.1490003   4951.28702182  7117.06612213 94468.20441492]\n",
      "Bias: -1800004.1386313126\n",
      "Error: 257453.30733587188\n"
     ]
    }
   ],
   "source": [
    "from sklearn.metrics import mean_absolute_error\n",
    "\n",
    "X = data[['age_owner', 'length', 'width', 'flat']]\n",
    "y = data['price']\n",
    "reg = LinearRegression().fit(X, y)\n",
    "print('Weights: {}'.format(reg.coef_))\n",
    "print('Bias: {}'.format(reg.intercept_))\n",
    "\n",
    "pred_values = reg.predict(data[['age_owner', 'length', 'width', 'flat']])\n",
    "print('Error: {}'.format(mean_absolute_error(pred_values, y)))"
   ]
  },
  {
   "cell_type": "code",
   "execution_count": 325,
   "metadata": {},
   "outputs": [
    {
     "data": {
      "text/plain": [
       "1618290.0"
      ]
     },
     "execution_count": 325,
     "metadata": {},
     "output_type": "execute_result"
    }
   ],
   "source": [
    "y.median()"
   ]
  },
  {
   "cell_type": "markdown",
   "metadata": {},
   "source": [
    "Предположим, что цена зависит от размеров"
   ]
  },
  {
   "cell_type": "code",
   "execution_count": 326,
   "metadata": {},
   "outputs": [],
   "source": [
    "data['sqr1'] = data['length'] * data['width']"
   ]
  },
  {
   "cell_type": "code",
   "execution_count": 327,
   "metadata": {},
   "outputs": [
    {
     "name": "stdout",
     "output_type": "stream",
     "text": [
      "Weights: [24064.85866267  -382.48839592  -716.89112983 94364.25306343\n",
      "   107.83808925]\n",
      "Bias: -1395737.7205814505\n",
      "Error: 245773.91986255872\n"
     ]
    }
   ],
   "source": [
    "reg = LinearRegression().fit(data[['age_owner', 'length', 'width', 'flat', 'sqr1']], y)\n",
    "print('Weights: {}'.format(reg.coef_))\n",
    "print('Bias: {}'.format(reg.intercept_))\n",
    "\n",
    "pred_values = reg.predict(data[['age_owner', 'length', 'width', 'flat', 'sqr1']])\n",
    "print('Error: {}'.format(mean_absolute_error(pred_values, y)))"
   ]
  },
  {
   "cell_type": "markdown",
   "metadata": {},
   "source": [
    "Видно, что вклад у произведения близок к 100%, но его не хватает. Попробуем перемножить остальные параметры"
   ]
  },
  {
   "cell_type": "code",
   "execution_count": 328,
   "metadata": {},
   "outputs": [],
   "source": [
    "data['sqr2'] = data['age_owner'] * data['length']\n",
    "data['sqr3'] = data['age_owner'] * data['width']\n",
    "data['sqr4'] = data['age_owner'] * data['flat']\n",
    "data['sqr5'] = data['length'] * data['flat']\n",
    "data['sqr6'] = data['width'] * data['flat']"
   ]
  },
  {
   "cell_type": "code",
   "execution_count": 329,
   "metadata": {},
   "outputs": [
    {
     "name": "stdout",
     "output_type": "stream",
     "text": [
      "Weights: [-2.15704562e-11 -4.49063009e-12  1.62675706e-11  3.80511239e-11\n",
      "  1.00000000e+02  0.00000000e+00  4.54747351e-13  1.58400000e+03\n",
      "  2.95541369e-13  4.88942220e-13]\n",
      "Bias: -1.862645149230957e-09\n",
      "Error: 1.1396186891943215e-09\n"
     ]
    }
   ],
   "source": [
    "reg = LinearRegression().fit(data[['age_owner', 'length', 'width', 'flat',\n",
    "                                   'sqr1', 'sqr2', 'sqr3', 'sqr4', 'sqr5', 'sqr6']], y)\n",
    "print('Weights: {}'.format(reg.coef_))\n",
    "print('Bias: {}'.format(reg.intercept_))\n",
    "\n",
    "pred_values = reg.predict(data[['age_owner', 'length', 'width', 'flat',\n",
    "                                'sqr1', 'sqr2', 'sqr3', 'sqr4', 'sqr5', 'sqr6']])\n",
    "print('Error: {}'.format(mean_absolute_error(pred_values, y)))"
   ]
  },
  {
   "cell_type": "markdown",
   "metadata": {},
   "source": [
    "И мы угадали. Видно, что вклад вносят sqr1 и sqr4"
   ]
  },
  {
   "cell_type": "code",
   "execution_count": 330,
   "metadata": {},
   "outputs": [
    {
     "name": "stdout",
     "output_type": "stream",
     "text": [
      "Weights: [ 100. 1584.]\n",
      "Bias: -4.656612873077393e-10\n",
      "Error: 2.440356183797121e-10\n"
     ]
    }
   ],
   "source": [
    "reg = LinearRegression().fit(data[['sqr1', 'sqr4']], y)\n",
    "print('Weights: {}'.format(reg.coef_))\n",
    "print('Bias: {}'.format(reg.intercept_))\n",
    "\n",
    "pred_values = reg.predict(data[['sqr1', 'sqr4']])\n",
    "print('Error: {}'.format(mean_absolute_error(pred_values, y)))"
   ]
  },
  {
   "cell_type": "markdown",
   "metadata": {},
   "source": [
    "Проверим через полиномиальные преобразования для получения новых фич"
   ]
  },
  {
   "cell_type": "code",
   "execution_count": 331,
   "metadata": {},
   "outputs": [],
   "source": [
    "from sklearn.preprocessing import PolynomialFeatures"
   ]
  },
  {
   "cell_type": "code",
   "execution_count": 332,
   "metadata": {},
   "outputs": [],
   "source": [
    "poly = PolynomialFeatures(2)"
   ]
  },
  {
   "cell_type": "code",
   "execution_count": 333,
   "metadata": {},
   "outputs": [
    {
     "name": "stdout",
     "output_type": "stream",
     "text": [
      "Features: [(0, '1'), (1, 'x0'), (2, 'x1'), (3, 'x2'), (4, 'x3'), (5, 'x0^2'), (6, 'x0 x1'), (7, 'x0 x2'), (8, 'x0 x3'), (9, 'x1^2'), (10, 'x1 x2'), (11, 'x1 x3'), (12, 'x2^2'), (13, 'x2 x3'), (14, 'x3^2')]\n"
     ]
    }
   ],
   "source": [
    "X = poly.fit_transform(data[['age_owner', 'length', 'width', 'flat']])\n",
    "y = data['price']\n",
    "print('Features: {}'.format([(i, f) for i, f in enumerate(poly.get_feature_names())]))\n"
   ]
  },
  {
   "cell_type": "code",
   "execution_count": 335,
   "metadata": {},
   "outputs": [
    {
     "name": "stdout",
     "output_type": "stream",
     "text": [
      "Weights: [(0, 0.0), (1, -1.1965539670200087e-11), (2, -8.90840179401664e-12), (3, 7.190914530497139e-12), (4, 3.7551156628623517e-11), (5, -4.547473508864641e-13), (6, -1.6342482922482304e-13), (7, 8.526512829121202e-13), (8, 1584.0000000000014), (9, 4.987121826616203e-13), (10, 99.99999999999915), (11, -1.0729195309977513e-12), (12, -2.7000623958883807e-13), (13, 2.517097641430155e-12), (14, -8.810729923425242e-13)]\n",
      "Bias: -4.656612873077393e-10\n",
      "Error: 1.399603206664324e-09\n"
     ]
    }
   ],
   "source": [
    "reg = LinearRegression().fit(X, y)\n",
    "print('Weights: {}'.format([(i, c) for i, c in enumerate(reg.coef_)]))\n",
    "print('Bias: {}'.format(reg.intercept_))\n",
    "\n",
    "pred_values = reg.predict(X)\n",
    "print('Error: {}'.format(mean_absolute_error(pred_values, y)))"
   ]
  }
 ],
 "metadata": {
  "kernelspec": {
   "display_name": "Python 3",
   "language": "python",
   "name": "python3"
  },
  "language_info": {
   "codemirror_mode": {
    "name": "ipython",
    "version": 3
   },
   "file_extension": ".py",
   "mimetype": "text/x-python",
   "name": "python",
   "nbconvert_exporter": "python",
   "pygments_lexer": "ipython3",
   "version": "3.7.3"
  }
 },
 "nbformat": 4,
 "nbformat_minor": 4
}